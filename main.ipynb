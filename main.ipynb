{
  "nbformat": 4,
  "nbformat_minor": 0,
  "metadata": {
    "colab": {
      "name": "main.ipynb",
      "provenance": [],
      "collapsed_sections": [],
      "authorship_tag": "ABX9TyMRXLbdvzef+GGeAWvB2XcO",
      "include_colab_link": true
    },
    "kernelspec": {
      "name": "python3",
      "display_name": "Python 3"
    },
    "language_info": {
      "name": "python"
    }
  },
  "cells": [
    {
      "cell_type": "markdown",
      "metadata": {
        "id": "view-in-github",
        "colab_type": "text"
      },
      "source": [
        "<a href=\"https://colab.research.google.com/github/yuzuki-aritomo/2048_AI/blob/master/main.ipynb\" target=\"_parent\"><img src=\"https://colab.research.google.com/assets/colab-badge.svg\" alt=\"Open In Colab\"/></a>"
      ]
    },
    {
      "cell_type": "code",
      "metadata": {
        "id": "ZT6tS9lAq5y4"
      },
      "source": [
        "#mount drive\n",
        "from google.colab import drive, files\n",
        "drive.mount('/content/drive')\n",
        "\n",
        "import pandas as pd\n",
        "import numpy as np\n",
        "\n",
        "#import csv \n",
        "dataPath = \"drive/My Drive/02 Kaggle/Titanic/datasets/\"\n",
        "test = pd.read_csv(dataPath + 'test.csv')\n",
        "train = pd.read_csv(dataPath +'train.csv')\n",
        "sub = pd.read_csv(dataPath +'gender_submission.csv')\n",
        "\n",
        "train"
      ],
      "execution_count": null,
      "outputs": []
    },
    {
      "cell_type": "code",
      "metadata": {
        "id": "Jzwx-9mdL8Sz"
      },
      "source": [
        "data = pd.concat([train, test], sort=False)\n",
        "\n",
        "#特徴量エンジニアリング\n",
        "data['Sex'].replace(['male', 'female'], [0, 1], inplace=True) #Sex => replace 0, 1\n",
        "data['Fare'].fillna(np.mean(data['Fare']), inplace=True) #fare\n",
        "\n",
        "data['Embarked'].fillna(('S'), inplace=True)\n",
        "data['Embarked'] = data['Embarked'].map({'S': 0, 'C': 1, 'Q': 2}).astype(int)\n",
        "\n",
        "age_avg = data['Age'].mean()\n",
        "age_std = data['Age'].std()\n",
        "data['Age'].fillna(np.random.randint(age_avg - age_std, age_avg + age_std), inplace=True)\n",
        "\n",
        "#delete culums\n",
        "delete_columns = ['Name', 'PassengerId', 'SibSp', 'Parch', 'Ticket', 'Cabin']\n",
        "data.drop(delete_columns, axis=1, inplace=True)\n",
        "\n",
        "#make train, test data\n",
        "train = data[:len(train)]\n",
        "test = data[len(train):]\n",
        "\n",
        "y_train = train['Survived'] #answer data\n",
        "x_train = train.drop('Survived', axis=1) #train data except ans\n",
        "x_test = test.drop('Survived', axis=1) #test data after learnt"
      ],
      "execution_count": null,
      "outputs": []
    },
    {
      "cell_type": "code",
      "metadata": {
        "id": "yOTYhnKPOEk-"
      },
      "source": [
        "from sklearn.linear_model import LogisticRegression\n",
        "\n",
        "clf = LogisticRegression(penalty='l2', solver='sag', random_state=0)\n",
        "clf.fit(x_train, y_train)\n"
      ],
      "execution_count": null,
      "outputs": []
    },
    {
      "cell_type": "code",
      "metadata": {
        "colab": {
          "base_uri": "https://localhost:8080/",
          "height": 17
        },
        "id": "j655lYyuSDg3",
        "outputId": "0749e8d5-4db7-4469-a903-5bc9263deb03"
      },
      "source": [
        "pred = clf.predict(x_test)\n",
        "\n",
        "sub['Survived'] = list(map(int, pred))\n",
        "sub.to_csv('submission.csv', index=False)\n",
        "files.download('submission.csv')"
      ],
      "execution_count": null,
      "outputs": [
        {
          "output_type": "display_data",
          "data": {
            "application/javascript": [
              "\n",
              "    async function download(id, filename, size) {\n",
              "      if (!google.colab.kernel.accessAllowed) {\n",
              "        return;\n",
              "      }\n",
              "      const div = document.createElement('div');\n",
              "      const label = document.createElement('label');\n",
              "      label.textContent = `Downloading \"${filename}\": `;\n",
              "      div.appendChild(label);\n",
              "      const progress = document.createElement('progress');\n",
              "      progress.max = size;\n",
              "      div.appendChild(progress);\n",
              "      document.body.appendChild(div);\n",
              "\n",
              "      const buffers = [];\n",
              "      let downloaded = 0;\n",
              "\n",
              "      const channel = await google.colab.kernel.comms.open(id);\n",
              "      // Send a message to notify the kernel that we're ready.\n",
              "      channel.send({})\n",
              "\n",
              "      for await (const message of channel.messages) {\n",
              "        // Send a message to notify the kernel that we're ready.\n",
              "        channel.send({})\n",
              "        if (message.buffers) {\n",
              "          for (const buffer of message.buffers) {\n",
              "            buffers.push(buffer);\n",
              "            downloaded += buffer.byteLength;\n",
              "            progress.value = downloaded;\n",
              "          }\n",
              "        }\n",
              "      }\n",
              "      const blob = new Blob(buffers, {type: 'application/binary'});\n",
              "      const a = document.createElement('a');\n",
              "      a.href = window.URL.createObjectURL(blob);\n",
              "      a.download = filename;\n",
              "      div.appendChild(a);\n",
              "      a.click();\n",
              "      div.remove();\n",
              "    }\n",
              "  "
            ],
            "text/plain": [
              "<IPython.core.display.Javascript object>"
            ]
          },
          "metadata": {}
        },
        {
          "output_type": "display_data",
          "data": {
            "application/javascript": [
              "download(\"download_fb13a734-9d65-4fe0-8159-28019f443dfa\", \"submission.csv\", 2839)"
            ],
            "text/plain": [
              "<IPython.core.display.Javascript object>"
            ]
          },
          "metadata": {}
        }
      ]
    }
  ]
}